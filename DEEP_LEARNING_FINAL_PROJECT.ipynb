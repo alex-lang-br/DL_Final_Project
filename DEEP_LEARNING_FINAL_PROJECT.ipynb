{
  "nbformat": 4,
  "nbformat_minor": 0,
  "metadata": {
    "colab": {
      "provenance": []
    },
    "kernelspec": {
      "name": "python3",
      "display_name": "Python 3"
    },
    "language_info": {
      "name": "python"
    }
  },
  "cells": [
    {
      "cell_type": "markdown",
      "source": [
        "# WELCOME TO MY FINAL PROJECT FOR THE DL SPECIALIZATION! :D\n",
        "\n",
        "## WHY THIS PROJECT:\n",
        "\n",
        "### For this final project, I decided to predict the CAC40 using different ML models. The CAC40 is the equivalent of the S&P500, except it's for the 40 biggest french companies. I chose this project because I've seen many projects of the same kind for the US and Indian stock market, but not so for the french market. I decided to collect my own dataset by using the Yahoo finance API instead of looking at Kaggle, so this way we have the entire pipeline for an ML project, from Data Collection to model building. Also, the CAC40 is a good index because it's relatively recent (it was created in early 1990), so we have enough historical data to build a robust model while at the same time not polluting our models with useless historical data from the 1930's or 1940's.         \n",
        "### When I looked at other projects of the same type, I noticed that most either use some kind of supervised model, others use a Deep Learning approach, but not a lot of people try and compare the two. So in this project we will compare a Supervised approach with a Long Short Term Memory model, which we will build from the ground up and implement it ourselves. I will explain to you why I chose specific models in the model building part.   \n",
        "### This project is split into five parts:\n",
        "- Introduction and case study for this project\n",
        "- Data Acquisition and EDA\n",
        "- Building a Supervised model\n",
        "- Building a Deep Learning model and Hyperparameter tuning\n",
        "- Comparing the different models and conclusion\n",
        "- What we can do to iterate on this project      \n",
        "\n",
        "\n",
        "# PART 1: INTRODUCTION & CASE STUDY    \n",
        "## Let's say your represent an investment fund which only invests in indexes, not in individual companies: you'd want to maximize your investment by accurately predicting if the price at the closing time of the market is up or down, which will dictate to you when to buy or sell. But how do you go about building such a model ? Or even, what kind of model should you use ? A simple supervised approach will perhaps do the trick and will be easily explainable, but will it perform agains more State of the art algorithm ? Can one even predict the trends in the french stock market? Let's see ! "
      ],
      "metadata": {
        "id": "ncrENgRaDWjZ"
      }
    },
    {
      "cell_type": "markdown",
      "source": [
        "# PART 2: DATA ACQUISITION & EDA     \n",
        "### Import required libraries:"
      ],
      "metadata": {
        "id": "pYqEiHeYHGwi"
      }
    },
    {
      "cell_type": "code",
      "execution_count": null,
      "metadata": {
        "id": "Mv1MP66jrYM5"
      },
      "outputs": [],
      "source": [
        "try:\n",
        "  import yfinance as yf\n",
        "except:\n",
        "  !pip install yfinance\n",
        "  import yfinance as yf\n",
        "import pandas as pd\n",
        "import numpy as np\n",
        "import tensorflow as tf\n",
        "import seaborn as sns\n",
        "import matplotlib.pyplot as plt\n",
        "import datetime"
      ]
    },
    {
      "cell_type": "markdown",
      "source": [
        "### We use the symbol for the CAC40, which is ^FCHI, to obtain the data via Yahoo finance API. In our query, we select max which will give us all the data from the creation of the index until today. "
      ],
      "metadata": {
        "id": "QBumMNsaHUIb"
      }
    },
    {
      "cell_type": "code",
      "source": [
        "cac40 = yf.Ticker(\"^FCHI\")"
      ],
      "metadata": {
        "id": "nzGdD_4brpet"
      },
      "execution_count": null,
      "outputs": []
    },
    {
      "cell_type": "code",
      "source": [
        "cac40 = cac40.history(period='max')"
      ],
      "metadata": {
        "id": "9GKIXTzstzA-"
      },
      "execution_count": null,
      "outputs": []
    },
    {
      "cell_type": "code",
      "source": [
        "cac40"
      ],
      "metadata": {
        "colab": {
          "base_uri": "https://localhost:8080/",
          "height": 455
        },
        "id": "Zi9YeXMgt1tg",
        "outputId": "d5fa7dd4-ee99-4051-b747-cf06a39e7db0"
      },
      "execution_count": null,
      "outputs": [
        {
          "output_type": "execute_result",
          "data": {
            "text/plain": [
              "                                  Open         High          Low        Close  \\\n",
              "Date                                                                            \n",
              "1990-03-01 00:00:00+01:00  1836.000000  1838.000000  1827.000000  1832.000000   \n",
              "1990-03-02 00:00:00+01:00  1831.000000  1860.000000  1831.000000  1860.000000   \n",
              "1990-03-05 00:00:00+01:00  1866.000000  1874.000000  1862.000000  1874.000000   \n",
              "1990-03-06 00:00:00+01:00  1869.000000  1875.000000  1866.000000  1872.000000   \n",
              "1990-03-07 00:00:00+01:00  1874.000000  1881.000000  1874.000000  1880.000000   \n",
              "...                                ...          ...          ...          ...   \n",
              "2022-11-30 00:00:00+01:00  6706.669922  6743.600098  6678.750000  6738.549805   \n",
              "2022-12-01 00:00:00+01:00  6784.600098  6791.310059  6730.549805  6753.970215   \n",
              "2022-12-02 00:00:00+01:00  6728.859863  6767.720215  6689.759766  6742.250000   \n",
              "2022-12-05 00:00:00+01:00  6728.709961  6738.970215  6685.520020  6696.959961   \n",
              "2022-12-06 00:00:00+01:00  6677.490234  6704.740234  6656.930176  6676.250000   \n",
              "\n",
              "                              Volume  Dividends  Stock Splits  \n",
              "Date                                                           \n",
              "1990-03-01 00:00:00+01:00          0          0             0  \n",
              "1990-03-02 00:00:00+01:00          0          0             0  \n",
              "1990-03-05 00:00:00+01:00          0          0             0  \n",
              "1990-03-06 00:00:00+01:00          0          0             0  \n",
              "1990-03-07 00:00:00+01:00          0          0             0  \n",
              "...                              ...        ...           ...  \n",
              "2022-11-30 00:00:00+01:00  137628600          0             0  \n",
              "2022-12-01 00:00:00+01:00   76833000          0             0  \n",
              "2022-12-02 00:00:00+01:00   73971700          0             0  \n",
              "2022-12-05 00:00:00+01:00   64996300          0             0  \n",
              "2022-12-06 00:00:00+01:00          0          0             0  \n",
              "\n",
              "[8318 rows x 7 columns]"
            ],
            "text/html": [
              "\n",
              "  <div id=\"df-5b4a2f56-b04b-49f5-ae31-6a2019ef615a\">\n",
              "    <div class=\"colab-df-container\">\n",
              "      <div>\n",
              "<style scoped>\n",
              "    .dataframe tbody tr th:only-of-type {\n",
              "        vertical-align: middle;\n",
              "    }\n",
              "\n",
              "    .dataframe tbody tr th {\n",
              "        vertical-align: top;\n",
              "    }\n",
              "\n",
              "    .dataframe thead th {\n",
              "        text-align: right;\n",
              "    }\n",
              "</style>\n",
              "<table border=\"1\" class=\"dataframe\">\n",
              "  <thead>\n",
              "    <tr style=\"text-align: right;\">\n",
              "      <th></th>\n",
              "      <th>Open</th>\n",
              "      <th>High</th>\n",
              "      <th>Low</th>\n",
              "      <th>Close</th>\n",
              "      <th>Volume</th>\n",
              "      <th>Dividends</th>\n",
              "      <th>Stock Splits</th>\n",
              "    </tr>\n",
              "    <tr>\n",
              "      <th>Date</th>\n",
              "      <th></th>\n",
              "      <th></th>\n",
              "      <th></th>\n",
              "      <th></th>\n",
              "      <th></th>\n",
              "      <th></th>\n",
              "      <th></th>\n",
              "    </tr>\n",
              "  </thead>\n",
              "  <tbody>\n",
              "    <tr>\n",
              "      <th>1990-03-01 00:00:00+01:00</th>\n",
              "      <td>1836.000000</td>\n",
              "      <td>1838.000000</td>\n",
              "      <td>1827.000000</td>\n",
              "      <td>1832.000000</td>\n",
              "      <td>0</td>\n",
              "      <td>0</td>\n",
              "      <td>0</td>\n",
              "    </tr>\n",
              "    <tr>\n",
              "      <th>1990-03-02 00:00:00+01:00</th>\n",
              "      <td>1831.000000</td>\n",
              "      <td>1860.000000</td>\n",
              "      <td>1831.000000</td>\n",
              "      <td>1860.000000</td>\n",
              "      <td>0</td>\n",
              "      <td>0</td>\n",
              "      <td>0</td>\n",
              "    </tr>\n",
              "    <tr>\n",
              "      <th>1990-03-05 00:00:00+01:00</th>\n",
              "      <td>1866.000000</td>\n",
              "      <td>1874.000000</td>\n",
              "      <td>1862.000000</td>\n",
              "      <td>1874.000000</td>\n",
              "      <td>0</td>\n",
              "      <td>0</td>\n",
              "      <td>0</td>\n",
              "    </tr>\n",
              "    <tr>\n",
              "      <th>1990-03-06 00:00:00+01:00</th>\n",
              "      <td>1869.000000</td>\n",
              "      <td>1875.000000</td>\n",
              "      <td>1866.000000</td>\n",
              "      <td>1872.000000</td>\n",
              "      <td>0</td>\n",
              "      <td>0</td>\n",
              "      <td>0</td>\n",
              "    </tr>\n",
              "    <tr>\n",
              "      <th>1990-03-07 00:00:00+01:00</th>\n",
              "      <td>1874.000000</td>\n",
              "      <td>1881.000000</td>\n",
              "      <td>1874.000000</td>\n",
              "      <td>1880.000000</td>\n",
              "      <td>0</td>\n",
              "      <td>0</td>\n",
              "      <td>0</td>\n",
              "    </tr>\n",
              "    <tr>\n",
              "      <th>...</th>\n",
              "      <td>...</td>\n",
              "      <td>...</td>\n",
              "      <td>...</td>\n",
              "      <td>...</td>\n",
              "      <td>...</td>\n",
              "      <td>...</td>\n",
              "      <td>...</td>\n",
              "    </tr>\n",
              "    <tr>\n",
              "      <th>2022-11-30 00:00:00+01:00</th>\n",
              "      <td>6706.669922</td>\n",
              "      <td>6743.600098</td>\n",
              "      <td>6678.750000</td>\n",
              "      <td>6738.549805</td>\n",
              "      <td>137628600</td>\n",
              "      <td>0</td>\n",
              "      <td>0</td>\n",
              "    </tr>\n",
              "    <tr>\n",
              "      <th>2022-12-01 00:00:00+01:00</th>\n",
              "      <td>6784.600098</td>\n",
              "      <td>6791.310059</td>\n",
              "      <td>6730.549805</td>\n",
              "      <td>6753.970215</td>\n",
              "      <td>76833000</td>\n",
              "      <td>0</td>\n",
              "      <td>0</td>\n",
              "    </tr>\n",
              "    <tr>\n",
              "      <th>2022-12-02 00:00:00+01:00</th>\n",
              "      <td>6728.859863</td>\n",
              "      <td>6767.720215</td>\n",
              "      <td>6689.759766</td>\n",
              "      <td>6742.250000</td>\n",
              "      <td>73971700</td>\n",
              "      <td>0</td>\n",
              "      <td>0</td>\n",
              "    </tr>\n",
              "    <tr>\n",
              "      <th>2022-12-05 00:00:00+01:00</th>\n",
              "      <td>6728.709961</td>\n",
              "      <td>6738.970215</td>\n",
              "      <td>6685.520020</td>\n",
              "      <td>6696.959961</td>\n",
              "      <td>64996300</td>\n",
              "      <td>0</td>\n",
              "      <td>0</td>\n",
              "    </tr>\n",
              "    <tr>\n",
              "      <th>2022-12-06 00:00:00+01:00</th>\n",
              "      <td>6677.490234</td>\n",
              "      <td>6704.740234</td>\n",
              "      <td>6656.930176</td>\n",
              "      <td>6676.250000</td>\n",
              "      <td>0</td>\n",
              "      <td>0</td>\n",
              "      <td>0</td>\n",
              "    </tr>\n",
              "  </tbody>\n",
              "</table>\n",
              "<p>8318 rows × 7 columns</p>\n",
              "</div>\n",
              "      <button class=\"colab-df-convert\" onclick=\"convertToInteractive('df-5b4a2f56-b04b-49f5-ae31-6a2019ef615a')\"\n",
              "              title=\"Convert this dataframe to an interactive table.\"\n",
              "              style=\"display:none;\">\n",
              "        \n",
              "  <svg xmlns=\"http://www.w3.org/2000/svg\" height=\"24px\"viewBox=\"0 0 24 24\"\n",
              "       width=\"24px\">\n",
              "    <path d=\"M0 0h24v24H0V0z\" fill=\"none\"/>\n",
              "    <path d=\"M18.56 5.44l.94 2.06.94-2.06 2.06-.94-2.06-.94-.94-2.06-.94 2.06-2.06.94zm-11 1L8.5 8.5l.94-2.06 2.06-.94-2.06-.94L8.5 2.5l-.94 2.06-2.06.94zm10 10l.94 2.06.94-2.06 2.06-.94-2.06-.94-.94-2.06-.94 2.06-2.06.94z\"/><path d=\"M17.41 7.96l-1.37-1.37c-.4-.4-.92-.59-1.43-.59-.52 0-1.04.2-1.43.59L10.3 9.45l-7.72 7.72c-.78.78-.78 2.05 0 2.83L4 21.41c.39.39.9.59 1.41.59.51 0 1.02-.2 1.41-.59l7.78-7.78 2.81-2.81c.8-.78.8-2.07 0-2.86zM5.41 20L4 18.59l7.72-7.72 1.47 1.35L5.41 20z\"/>\n",
              "  </svg>\n",
              "      </button>\n",
              "      \n",
              "  <style>\n",
              "    .colab-df-container {\n",
              "      display:flex;\n",
              "      flex-wrap:wrap;\n",
              "      gap: 12px;\n",
              "    }\n",
              "\n",
              "    .colab-df-convert {\n",
              "      background-color: #E8F0FE;\n",
              "      border: none;\n",
              "      border-radius: 50%;\n",
              "      cursor: pointer;\n",
              "      display: none;\n",
              "      fill: #1967D2;\n",
              "      height: 32px;\n",
              "      padding: 0 0 0 0;\n",
              "      width: 32px;\n",
              "    }\n",
              "\n",
              "    .colab-df-convert:hover {\n",
              "      background-color: #E2EBFA;\n",
              "      box-shadow: 0px 1px 2px rgba(60, 64, 67, 0.3), 0px 1px 3px 1px rgba(60, 64, 67, 0.15);\n",
              "      fill: #174EA6;\n",
              "    }\n",
              "\n",
              "    [theme=dark] .colab-df-convert {\n",
              "      background-color: #3B4455;\n",
              "      fill: #D2E3FC;\n",
              "    }\n",
              "\n",
              "    [theme=dark] .colab-df-convert:hover {\n",
              "      background-color: #434B5C;\n",
              "      box-shadow: 0px 1px 3px 1px rgba(0, 0, 0, 0.15);\n",
              "      filter: drop-shadow(0px 1px 2px rgba(0, 0, 0, 0.3));\n",
              "      fill: #FFFFFF;\n",
              "    }\n",
              "  </style>\n",
              "\n",
              "      <script>\n",
              "        const buttonEl =\n",
              "          document.querySelector('#df-5b4a2f56-b04b-49f5-ae31-6a2019ef615a button.colab-df-convert');\n",
              "        buttonEl.style.display =\n",
              "          google.colab.kernel.accessAllowed ? 'block' : 'none';\n",
              "\n",
              "        async function convertToInteractive(key) {\n",
              "          const element = document.querySelector('#df-5b4a2f56-b04b-49f5-ae31-6a2019ef615a');\n",
              "          const dataTable =\n",
              "            await google.colab.kernel.invokeFunction('convertToInteractive',\n",
              "                                                     [key], {});\n",
              "          if (!dataTable) return;\n",
              "\n",
              "          const docLinkHtml = 'Like what you see? Visit the ' +\n",
              "            '<a target=\"_blank\" href=https://colab.research.google.com/notebooks/data_table.ipynb>data table notebook</a>'\n",
              "            + ' to learn more about interactive tables.';\n",
              "          element.innerHTML = '';\n",
              "          dataTable['output_type'] = 'display_data';\n",
              "          await google.colab.output.renderOutput(dataTable, element);\n",
              "          const docLink = document.createElement('div');\n",
              "          docLink.innerHTML = docLinkHtml;\n",
              "          element.appendChild(docLink);\n",
              "        }\n",
              "      </script>\n",
              "    </div>\n",
              "  </div>\n",
              "  "
            ]
          },
          "metadata": {},
          "execution_count": 416
        }
      ]
    },
    {
      "cell_type": "code",
      "source": [
        "cac40.describe()"
      ],
      "metadata": {
        "colab": {
          "base_uri": "https://localhost:8080/",
          "height": 300
        },
        "id": "NNu79HATt8uV",
        "outputId": "59c75376-65d8-4899-ed40-7e1e2552ec86"
      },
      "execution_count": null,
      "outputs": [
        {
          "output_type": "execute_result",
          "data": {
            "text/plain": [
              "              Open         High          Low        Close        Volume  \\\n",
              "count  8318.000000  8318.000000  8318.000000  8318.000000  8.318000e+03   \n",
              "mean   3993.848768  4021.956716  3962.996485  3993.429728  6.435243e+07   \n",
              "std    1416.330942  1424.089956  1408.109643  1416.114453  6.865887e+07   \n",
              "min    1438.000000  1459.000000  1425.000000  1441.000000  0.000000e+00   \n",
              "25%    2964.539978  2993.727478  2929.150024  2962.322449  0.000000e+00   \n",
              "50%    4056.334961  4082.994995  4025.724976  4054.650024  6.622655e+07   \n",
              "75%    5073.930176  5106.015015  5042.057617  5075.280029  1.122782e+08   \n",
              "max    7320.479980  7384.859863  7313.529785  7376.370117  5.312476e+08   \n",
              "\n",
              "       Dividends  Stock Splits  \n",
              "count     8318.0        8318.0  \n",
              "mean         0.0           0.0  \n",
              "std          0.0           0.0  \n",
              "min          0.0           0.0  \n",
              "25%          0.0           0.0  \n",
              "50%          0.0           0.0  \n",
              "75%          0.0           0.0  \n",
              "max          0.0           0.0  "
            ],
            "text/html": [
              "\n",
              "  <div id=\"df-9a39c460-eff7-4f62-85fa-4dbf107f5eb5\">\n",
              "    <div class=\"colab-df-container\">\n",
              "      <div>\n",
              "<style scoped>\n",
              "    .dataframe tbody tr th:only-of-type {\n",
              "        vertical-align: middle;\n",
              "    }\n",
              "\n",
              "    .dataframe tbody tr th {\n",
              "        vertical-align: top;\n",
              "    }\n",
              "\n",
              "    .dataframe thead th {\n",
              "        text-align: right;\n",
              "    }\n",
              "</style>\n",
              "<table border=\"1\" class=\"dataframe\">\n",
              "  <thead>\n",
              "    <tr style=\"text-align: right;\">\n",
              "      <th></th>\n",
              "      <th>Open</th>\n",
              "      <th>High</th>\n",
              "      <th>Low</th>\n",
              "      <th>Close</th>\n",
              "      <th>Volume</th>\n",
              "      <th>Dividends</th>\n",
              "      <th>Stock Splits</th>\n",
              "    </tr>\n",
              "  </thead>\n",
              "  <tbody>\n",
              "    <tr>\n",
              "      <th>count</th>\n",
              "      <td>8318.000000</td>\n",
              "      <td>8318.000000</td>\n",
              "      <td>8318.000000</td>\n",
              "      <td>8318.000000</td>\n",
              "      <td>8.318000e+03</td>\n",
              "      <td>8318.0</td>\n",
              "      <td>8318.0</td>\n",
              "    </tr>\n",
              "    <tr>\n",
              "      <th>mean</th>\n",
              "      <td>3993.848768</td>\n",
              "      <td>4021.956716</td>\n",
              "      <td>3962.996485</td>\n",
              "      <td>3993.429728</td>\n",
              "      <td>6.435243e+07</td>\n",
              "      <td>0.0</td>\n",
              "      <td>0.0</td>\n",
              "    </tr>\n",
              "    <tr>\n",
              "      <th>std</th>\n",
              "      <td>1416.330942</td>\n",
              "      <td>1424.089956</td>\n",
              "      <td>1408.109643</td>\n",
              "      <td>1416.114453</td>\n",
              "      <td>6.865887e+07</td>\n",
              "      <td>0.0</td>\n",
              "      <td>0.0</td>\n",
              "    </tr>\n",
              "    <tr>\n",
              "      <th>min</th>\n",
              "      <td>1438.000000</td>\n",
              "      <td>1459.000000</td>\n",
              "      <td>1425.000000</td>\n",
              "      <td>1441.000000</td>\n",
              "      <td>0.000000e+00</td>\n",
              "      <td>0.0</td>\n",
              "      <td>0.0</td>\n",
              "    </tr>\n",
              "    <tr>\n",
              "      <th>25%</th>\n",
              "      <td>2964.539978</td>\n",
              "      <td>2993.727478</td>\n",
              "      <td>2929.150024</td>\n",
              "      <td>2962.322449</td>\n",
              "      <td>0.000000e+00</td>\n",
              "      <td>0.0</td>\n",
              "      <td>0.0</td>\n",
              "    </tr>\n",
              "    <tr>\n",
              "      <th>50%</th>\n",
              "      <td>4056.334961</td>\n",
              "      <td>4082.994995</td>\n",
              "      <td>4025.724976</td>\n",
              "      <td>4054.650024</td>\n",
              "      <td>6.622655e+07</td>\n",
              "      <td>0.0</td>\n",
              "      <td>0.0</td>\n",
              "    </tr>\n",
              "    <tr>\n",
              "      <th>75%</th>\n",
              "      <td>5073.930176</td>\n",
              "      <td>5106.015015</td>\n",
              "      <td>5042.057617</td>\n",
              "      <td>5075.280029</td>\n",
              "      <td>1.122782e+08</td>\n",
              "      <td>0.0</td>\n",
              "      <td>0.0</td>\n",
              "    </tr>\n",
              "    <tr>\n",
              "      <th>max</th>\n",
              "      <td>7320.479980</td>\n",
              "      <td>7384.859863</td>\n",
              "      <td>7313.529785</td>\n",
              "      <td>7376.370117</td>\n",
              "      <td>5.312476e+08</td>\n",
              "      <td>0.0</td>\n",
              "      <td>0.0</td>\n",
              "    </tr>\n",
              "  </tbody>\n",
              "</table>\n",
              "</div>\n",
              "      <button class=\"colab-df-convert\" onclick=\"convertToInteractive('df-9a39c460-eff7-4f62-85fa-4dbf107f5eb5')\"\n",
              "              title=\"Convert this dataframe to an interactive table.\"\n",
              "              style=\"display:none;\">\n",
              "        \n",
              "  <svg xmlns=\"http://www.w3.org/2000/svg\" height=\"24px\"viewBox=\"0 0 24 24\"\n",
              "       width=\"24px\">\n",
              "    <path d=\"M0 0h24v24H0V0z\" fill=\"none\"/>\n",
              "    <path d=\"M18.56 5.44l.94 2.06.94-2.06 2.06-.94-2.06-.94-.94-2.06-.94 2.06-2.06.94zm-11 1L8.5 8.5l.94-2.06 2.06-.94-2.06-.94L8.5 2.5l-.94 2.06-2.06.94zm10 10l.94 2.06.94-2.06 2.06-.94-2.06-.94-.94-2.06-.94 2.06-2.06.94z\"/><path d=\"M17.41 7.96l-1.37-1.37c-.4-.4-.92-.59-1.43-.59-.52 0-1.04.2-1.43.59L10.3 9.45l-7.72 7.72c-.78.78-.78 2.05 0 2.83L4 21.41c.39.39.9.59 1.41.59.51 0 1.02-.2 1.41-.59l7.78-7.78 2.81-2.81c.8-.78.8-2.07 0-2.86zM5.41 20L4 18.59l7.72-7.72 1.47 1.35L5.41 20z\"/>\n",
              "  </svg>\n",
              "      </button>\n",
              "      \n",
              "  <style>\n",
              "    .colab-df-container {\n",
              "      display:flex;\n",
              "      flex-wrap:wrap;\n",
              "      gap: 12px;\n",
              "    }\n",
              "\n",
              "    .colab-df-convert {\n",
              "      background-color: #E8F0FE;\n",
              "      border: none;\n",
              "      border-radius: 50%;\n",
              "      cursor: pointer;\n",
              "      display: none;\n",
              "      fill: #1967D2;\n",
              "      height: 32px;\n",
              "      padding: 0 0 0 0;\n",
              "      width: 32px;\n",
              "    }\n",
              "\n",
              "    .colab-df-convert:hover {\n",
              "      background-color: #E2EBFA;\n",
              "      box-shadow: 0px 1px 2px rgba(60, 64, 67, 0.3), 0px 1px 3px 1px rgba(60, 64, 67, 0.15);\n",
              "      fill: #174EA6;\n",
              "    }\n",
              "\n",
              "    [theme=dark] .colab-df-convert {\n",
              "      background-color: #3B4455;\n",
              "      fill: #D2E3FC;\n",
              "    }\n",
              "\n",
              "    [theme=dark] .colab-df-convert:hover {\n",
              "      background-color: #434B5C;\n",
              "      box-shadow: 0px 1px 3px 1px rgba(0, 0, 0, 0.15);\n",
              "      filter: drop-shadow(0px 1px 2px rgba(0, 0, 0, 0.3));\n",
              "      fill: #FFFFFF;\n",
              "    }\n",
              "  </style>\n",
              "\n",
              "      <script>\n",
              "        const buttonEl =\n",
              "          document.querySelector('#df-9a39c460-eff7-4f62-85fa-4dbf107f5eb5 button.colab-df-convert');\n",
              "        buttonEl.style.display =\n",
              "          google.colab.kernel.accessAllowed ? 'block' : 'none';\n",
              "\n",
              "        async function convertToInteractive(key) {\n",
              "          const element = document.querySelector('#df-9a39c460-eff7-4f62-85fa-4dbf107f5eb5');\n",
              "          const dataTable =\n",
              "            await google.colab.kernel.invokeFunction('convertToInteractive',\n",
              "                                                     [key], {});\n",
              "          if (!dataTable) return;\n",
              "\n",
              "          const docLinkHtml = 'Like what you see? Visit the ' +\n",
              "            '<a target=\"_blank\" href=https://colab.research.google.com/notebooks/data_table.ipynb>data table notebook</a>'\n",
              "            + ' to learn more about interactive tables.';\n",
              "          element.innerHTML = '';\n",
              "          dataTable['output_type'] = 'display_data';\n",
              "          await google.colab.output.renderOutput(dataTable, element);\n",
              "          const docLink = document.createElement('div');\n",
              "          docLink.innerHTML = docLinkHtml;\n",
              "          element.appendChild(docLink);\n",
              "        }\n",
              "      </script>\n",
              "    </div>\n",
              "  </div>\n",
              "  "
            ]
          },
          "metadata": {},
          "execution_count": 417
        }
      ]
    },
    {
      "cell_type": "markdown",
      "source": [
        "### We can safely get rid of the Dividends and Stock splits columns as they are useful when predicting the price of a particular stock of a company, not of an index (an index cannot do a stock-split for instance, whereas Amazon just did one a few months ago). Furthermore, since we use an API which was built with Data Science in mind, we can see that the indexes in our dataframe corresponds to the trading date, which is quite useful."
      ],
      "metadata": {
        "id": "BDXuHwZYH9m6"
      }
    },
    {
      "cell_type": "code",
      "source": [
        "cac40.drop(['Dividends', 'Stock Splits'], axis=1, inplace=True)"
      ],
      "metadata": {
        "id": "RQFT99-Y1Qu8"
      },
      "execution_count": null,
      "outputs": []
    },
    {
      "cell_type": "code",
      "source": [
        "cac40.index"
      ],
      "metadata": {
        "colab": {
          "base_uri": "https://localhost:8080/"
        },
        "id": "s1RtioDW0SP1",
        "outputId": "65fafce3-1ae0-4969-d8fd-f976560ba106"
      },
      "execution_count": null,
      "outputs": [
        {
          "output_type": "execute_result",
          "data": {
            "text/plain": [
              "DatetimeIndex(['1990-03-01 00:00:00+01:00', '1990-03-02 00:00:00+01:00',\n",
              "               '1990-03-05 00:00:00+01:00', '1990-03-06 00:00:00+01:00',\n",
              "               '1990-03-07 00:00:00+01:00', '1990-03-08 00:00:00+01:00',\n",
              "               '1990-03-09 00:00:00+01:00', '1990-03-12 00:00:00+01:00',\n",
              "               '1990-03-13 00:00:00+01:00', '1990-03-14 00:00:00+01:00',\n",
              "               ...\n",
              "               '2022-11-23 00:00:00+01:00', '2022-11-24 00:00:00+01:00',\n",
              "               '2022-11-25 00:00:00+01:00', '2022-11-28 00:00:00+01:00',\n",
              "               '2022-11-29 00:00:00+01:00', '2022-11-30 00:00:00+01:00',\n",
              "               '2022-12-01 00:00:00+01:00', '2022-12-02 00:00:00+01:00',\n",
              "               '2022-12-05 00:00:00+01:00', '2022-12-06 00:00:00+01:00'],\n",
              "              dtype='datetime64[ns, Europe/Paris]', name='Date', length=8318, freq=None)"
            ]
          },
          "metadata": {},
          "execution_count": 419
        }
      ]
    },
    {
      "cell_type": "markdown",
      "source": [
        "### The plot below shows the trend of the CAC40. We can see that it went up from 2000 to about 8000, which means that it quadrupled in only 30 years. That's a pretty good trend, especially if you invested early. However, we can also notice that there is a high volatility, especially during the different financial crises, when all the stocks came crashing down."
      ],
      "metadata": {
        "id": "VffX59gaIknp"
      }
    },
    {
      "cell_type": "code",
      "source": [
        "plt.figure(figsize=(20,10))\n",
        "plt.plot(cac40['Close'])\n",
        "plt.ylabel('CAC 40 valuation at closing time')\n",
        "plt.xlabel('Year')\n",
        "plt.title('Evolution of the closing price of the CAC40 since 1990')\n",
        "plt.show()"
      ],
      "metadata": {
        "colab": {
          "base_uri": "https://localhost:8080/",
          "height": 621
        },
        "id": "qZ8Y7uSU0Uuu",
        "outputId": "2a5b1016-33a8-4e5e-d938-e51b43823c33"
      },
      "execution_count": null,
      "outputs": [
        {
          "output_type": "display_data",
          "data": {
            "text/plain": [
              "<Figure size 1440x720 with 1 Axes>"
            ],
            "image/png": "[encoded data removed]"
          },
          "metadata": {
            "needs_background": "light"
          }
        }
      ]
    },
    {
      "cell_type": "markdown",
      "source": [
        "### We can also plot the Moving averages for different periods, as this also yields some useful information for quantitative analyst."
      ],
      "metadata": {
        "id": "jVYbi3mfG0VC"
      }
    },
    {
      "cell_type": "code",
      "source": [
        "cac40_ma = cac40.copy()\n",
        "for i in range(10,40,10):\n",
        "  cac40_ma[f'Moving Avg for {i} days'] = cac40_ma['Close'].rolling(i).mean()"
      ],
      "metadata": {
        "id": "hzvc-xbpbUaX"
      },
      "execution_count": null,
      "outputs": []
    },
    {
      "cell_type": "code",
      "source": [
        "plt.figure(figsize = (20,10))\n",
        "plt.plot(cac40_ma['Close'])\n",
        "plt.plot(cac40_ma['Moving Avg for 10 days'], label='MA for 10 days')\n",
        "plt.plot(cac40_ma['Moving Avg for 20 days'], label='MA for 20 days')\n",
        "plt.plot(cac40_ma['Moving Avg for 30 days'], label='MA for 30 days')\n",
        "plt.title('Different Moving Averages over the years')\n",
        "plt.legend()\n",
        "plt.show()\n"
      ],
      "metadata": {
        "colab": {
          "base_uri": "https://localhost:8080/",
          "height": 607
        },
        "id": "Rssbab9PeDxP",
        "outputId": "65b633f3-92f9-4719-e80b-c02fbb1374cf"
      },
      "execution_count": null,
      "outputs": [
        {
          "output_type": "display_data",
          "data": {
            "text/plain": [
              "<Figure size 1440x720 with 1 Axes>"
            ],
            "image/png": "[encoded data removed]"
          },
          "metadata": {
            "needs_background": "light"
          }
        }
      ]
    },
    {
      "cell_type": "markdown",
      "source": [
        "### We are going to create a new colum, called 'Future', which is simply the closing price shifted one day into the future. We will use this feature to build our model, but more on that later."
      ],
      "metadata": {
        "id": "TyIktFjEJDIh"
      }
    },
    {
      "cell_type": "code",
      "source": [
        "cac40[\"Future\"] = cac40[\"Close\"].shift(-1)"
      ],
      "metadata": {
        "id": "5-ETk_HV1EMy"
      },
      "execution_count": null,
      "outputs": []
    },
    {
      "cell_type": "code",
      "source": [
        "cac40.head()"
      ],
      "metadata": {
        "colab": {
          "base_uri": "https://localhost:8080/"
        },
        "id": "gG-8gyaE107T",
        "outputId": "167d0740-b7c0-4b44-f47f-b04f6e62fe19"
      },
      "execution_count": null,
      "outputs": [
        {
          "output_type": "execute_result",
          "data": {
            "text/plain": [
              "                             Open    High     Low   Close  Volume  Future\n",
              "Date                                                                     \n",
              "1990-03-01 00:00:00+01:00  1836.0  1838.0  1827.0  1832.0       0  1860.0\n",
              "1990-03-02 00:00:00+01:00  1831.0  1860.0  1831.0  1860.0       0  1874.0\n",
              "1990-03-05 00:00:00+01:00  1866.0  1874.0  1862.0  1874.0       0  1872.0\n",
              "1990-03-06 00:00:00+01:00  1869.0  1875.0  1866.0  1872.0       0  1880.0\n",
              "1990-03-07 00:00:00+01:00  1874.0  1881.0  1874.0  1880.0       0  1917.0"
            ],
            "text/html": [
              "\n",
              "  <div id=\"df-79ade585-f02f-4b80-abcd-28d6c193bf12\">\n",
              "    <div class=\"colab-df-container\">\n",
              "      <div>\n",
              "<style scoped>\n",
              "    .dataframe tbody tr th:only-of-type {\n",
              "        vertical-align: middle;\n",
              "    }\n",
              "\n",
              "    .dataframe tbody tr th {\n",
              "        vertical-align: top;\n",
              "    }\n",
              "\n",
              "    .dataframe thead th {\n",
              "        text-align: right;\n",
              "    }\n",
              "</style>\n",
              "<table border=\"1\" class=\"dataframe\">\n",
              "  <thead>\n",
              "    <tr style=\"text-align: right;\">\n",
              "      <th></th>\n",
              "      <th>Open</th>\n",
              "      <th>High</th>\n",
              "      <th>Low</th>\n",
              "      <th>Close</th>\n",
              "      <th>Volume</th>\n",
              "      <th>Future</th>\n",
              "    </tr>\n",
              "    <tr>\n",
              "      <th>Date</th>\n",
              "      <th></th>\n",
              "      <th></th>\n",
              "      <th></th>\n",
              "      <th></th>\n",
              "      <th></th>\n",
              "      <th></th>\n",
              "    </tr>\n",
              "  </thead>\n",
              "  <tbody>\n",
              "    <tr>\n",
              "      <th>1990-03-01 00:00:00+01:00</th>\n",
              "      <td>1836.0</td>\n",
              "      <td>1838.0</td>\n",
              "      <td>1827.0</td>\n",
              "      <td>1832.0</td>\n",
              "      <td>0</td>\n",
              "      <td>1860.0</td>\n",
              "    </tr>\n",
              "    <tr>\n",
              "      <th>1990-03-02 00:00:00+01:00</th>\n",
              "      <td>1831.0</td>\n",
              "      <td>1860.0</td>\n",
              "      <td>1831.0</td>\n",
              "      <td>1860.0</td>\n",
              "      <td>0</td>\n",
              "      <td>1874.0</td>\n",
              "    </tr>\n",
              "    <tr>\n",
              "      <th>1990-03-05 00:00:00+01:00</th>\n",
              "      <td>1866.0</td>\n",
              "      <td>1874.0</td>\n",
              "      <td>1862.0</td>\n",
              "      <td>1874.0</td>\n",
              "      <td>0</td>\n",
              "      <td>1872.0</td>\n",
              "    </tr>\n",
              "    <tr>\n",
              "      <th>1990-03-06 00:00:00+01:00</th>\n",
              "      <td>1869.0</td>\n",
              "      <td>1875.0</td>\n",
              "      <td>1866.0</td>\n",
              "      <td>1872.0</td>\n",
              "      <td>0</td>\n",
              "      <td>1880.0</td>\n",
              "    </tr>\n",
              "    <tr>\n",
              "      <th>1990-03-07 00:00:00+01:00</th>\n",
              "      <td>1874.0</td>\n",
              "      <td>1881.0</td>\n",
              "      <td>1874.0</td>\n",
              "      <td>1880.0</td>\n",
              "      <td>0</td>\n",
              "      <td>1917.0</td>\n",
              "    </tr>\n",
              "  </tbody>\n",
              "</table>\n",
              "</div>\n",
              "      <button class=\"colab-df-convert\" onclick=\"convertToInteractive('df-79ade585-f02f-4b80-abcd-28d6c193bf12')\"\n",
              "              title=\"Convert this dataframe to an interactive table.\"\n",
              "              style=\"display:none;\">\n",
              "        \n",
              "  <svg xmlns=\"http://www.w3.org/2000/svg\" height=\"24px\"viewBox=\"0 0 24 24\"\n",
              "       width=\"24px\">\n",
              "    <path d=\"M0 0h24v24H0V0z\" fill=\"none\"/>\n",
              "    <path d=\"M18.56 5.44l.94 2.06.94-2.06 2.06-.94-2.06-.94-.94-2.06-.94 2.06-2.06.94zm-11 1L8.5 8.5l.94-2.06 2.06-.94-2.06-.94L8.5 2.5l-.94 2.06-2.06.94zm10 10l.94 2.06.94-2.06 2.06-.94-2.06-.94-.94-2.06-.94 2.06-2.06.94z\"/><path d=\"M17.41 7.96l-1.37-1.37c-.4-.4-.92-.59-1.43-.59-.52 0-1.04.2-1.43.59L10.3 9.45l-7.72 7.72c-.78.78-.78 2.05 0 2.83L4 21.41c.39.39.9.59 1.41.59.51 0 1.02-.2 1.41-.59l7.78-7.78 2.81-2.81c.8-.78.8-2.07 0-2.86zM5.41 20L4 18.59l7.72-7.72 1.47 1.35L5.41 20z\"/>\n",
              "  </svg>\n",
              "      </button>\n",
              "      \n",
              "  <style>\n",
              "    .colab-df-container {\n",
              "      display:flex;\n",
              "      flex-wrap:wrap;\n",
              "      gap: 12px;\n",
              "    }\n",
              "\n",
              "    .colab-df-convert {\n",
              "      background-color: #E8F0FE;\n",
              "      border: none;\n",
              "      border-radius: 50%;\n",
              "      cursor: pointer;\n",
              "      display: none;\n",
              "      fill: #1967D2;\n",
              "      height: 32px;\n",
              "      padding: 0 0 0 0;\n",
              "      width: 32px;\n",
              "    }\n",
              "\n",
              "    .colab-df-convert:hover {\n",
              "      background-color: #E2EBFA;\n",
              "      box-shadow: 0px 1px 2px rgba(60, 64, 67, 0.3), 0px 1px 3px 1px rgba(60, 64, 67, 0.15);\n",
              "      fill: #174EA6;\n",
              "    }\n",
              "\n",
              "    [theme=dark] .colab-df-convert {\n",
              "      background-color: #3B4455;\n",
              "      fill: #D2E3FC;\n",
              "    }\n",
              "\n",
              "    [theme=dark] .colab-df-convert:hover {\n",
              "      background-color: #434B5C;\n",
              "      box-shadow: 0px 1px 3px 1px rgba(0, 0, 0, 0.15);\n",
              "      filter: drop-shadow(0px 1px 2px rgba(0, 0, 0, 0.3));\n",
              "      fill: #FFFFFF;\n",
              "    }\n",
              "  </style>\n",
              "\n",
              "      <script>\n",
              "        const buttonEl =\n",
              "          document.querySelector('#df-79ade585-f02f-4b80-abcd-28d6c193bf12 button.colab-df-convert');\n",
              "        buttonEl.style.display =\n",
              "          google.colab.kernel.accessAllowed ? 'block' : 'none';\n",
              "\n",
              "        async function convertToInteractive(key) {\n",
              "          const element = document.querySelector('#df-79ade585-f02f-4b80-abcd-28d6c193bf12');\n",
              "          const dataTable =\n",
              "            await google.colab.kernel.invokeFunction('convertToInteractive',\n",
              "                                                     [key], {});\n",
              "          if (!dataTable) return;\n",
              "\n",
              "          const docLinkHtml = 'Like what you see? Visit the ' +\n",
              "            '<a target=\"_blank\" href=https://colab.research.google.com/notebooks/data_table.ipynb>data table notebook</a>'\n",
              "            + ' to learn more about interactive tables.';\n",
              "          element.innerHTML = '';\n",
              "          dataTable['output_type'] = 'display_data';\n",
              "          await google.colab.output.renderOutput(dataTable, element);\n",
              "          const docLink = document.createElement('div');\n",
              "          docLink.innerHTML = docLinkHtml;\n",
              "          element.appendChild(docLink);\n",
              "        }\n",
              "      </script>\n",
              "    </div>\n",
              "  </div>\n",
              "  "
            ]
          },
          "metadata": {},
          "execution_count": 424
        }
      ]
    },
    {
      "cell_type": "markdown",
      "source": [
        "### Since we will be using a supervised approach at first (we have a prediction problem so a supervised approach is recommended), we create a new column, 'Target', which will simply tell us if the Future price was greater than the one at closing time or not. In our case, we  care by how much the stock went up or down compared to the closing price, rather than simply learning the trend, that is why we use a Random Forest Regressor instead of the classifier"
      ],
      "metadata": {
        "id": "l-WpvGuYJW8K"
      }
    },
    {
      "cell_type": "code",
      "source": [
        "cac40['Target'] = np.where(cac40['Future']>cac40['Close'], 1, 0)"
      ],
      "metadata": {
        "id": "S9nkr_Pv11_7"
      },
      "execution_count": null,
      "outputs": []
    },
    {
      "cell_type": "code",
      "source": [
        "cac40.head()"
      ],
      "metadata": {
        "colab": {
          "base_uri": "https://localhost:8080/"
        },
        "id": "A6hwaQgd2HjO",
        "outputId": "673d452c-7fac-4804-d5e8-a56d616278b0"
      },
      "execution_count": null,
      "outputs": [
        {
          "output_type": "execute_result",
          "data": {
            "text/plain": [
              "                             Open    High     Low   Close  Volume  Future  \\\n",
              "Date                                                                        \n",
              "1990-03-01 00:00:00+01:00  1836.0  1838.0  1827.0  1832.0       0  1860.0   \n",
              "1990-03-02 00:00:00+01:00  1831.0  1860.0  1831.0  1860.0       0  1874.0   \n",
              "1990-03-05 00:00:00+01:00  1866.0  1874.0  1862.0  1874.0       0  1872.0   \n",
              "1990-03-06 00:00:00+01:00  1869.0  1875.0  1866.0  1872.0       0  1880.0   \n",
              "1990-03-07 00:00:00+01:00  1874.0  1881.0  1874.0  1880.0       0  1917.0   \n",
              "\n",
              "                           Target  \n",
              "Date                               \n",
              "1990-03-01 00:00:00+01:00       1  \n",
              "1990-03-02 00:00:00+01:00       1  \n",
              "1990-03-05 00:00:00+01:00       0  \n",
              "1990-03-06 00:00:00+01:00       1  \n",
              "1990-03-07 00:00:00+01:00       1  "
            ],
            "text/html": [
              "\n",
              "  <div id=\"df-7939758b-ea20-4cfc-8b6b-134f79c4c8d5\">\n",
              "    <div class=\"colab-df-container\">\n",
              "      <div>\n",
              "<style scoped>\n",
              "    .dataframe tbody tr th:only-of-type {\n",
              "        vertical-align: middle;\n",
              "    }\n",
              "\n",
              "    .dataframe tbody tr th {\n",
              "        vertical-align: top;\n",
              "    }\n",
              "\n",
              "    .dataframe thead th {\n",
              "        text-align: right;\n",
              "    }\n",
              "</style>\n",
              "<table border=\"1\" class=\"dataframe\">\n",
              "  <thead>\n",
              "    <tr style=\"text-align: right;\">\n",
              "      <th></th>\n",
              "      <th>Open</th>\n",
              "      <th>High</th>\n",
              "      <th>Low</th>\n",
              "      <th>Close</th>\n",
              "      <th>Volume</th>\n",
              "      <th>Future</th>\n",
              "      <th>Target</th>\n",
              "    </tr>\n",
              "    <tr>\n",
              "      <th>Date</th>\n",
              "      <th></th>\n",
              "      <th></th>\n",
              "      <th></th>\n",
              "      <th></th>\n",
              "      <th></th>\n",
              "      <th></th>\n",
              "      <th></th>\n",
              "    </tr>\n",
              "  </thead>\n",
              "  <tbody>\n",
              "    <tr>\n",
              "      <th>1990-03-01 00:00:00+01:00</th>\n",
              "      <td>1836.0</td>\n",
              "      <td>1838.0</td>\n",
              "      <td>1827.0</td>\n",
              "      <td>1832.0</td>\n",
              "      <td>0</td>\n",
              "      <td>1860.0</td>\n",
              "      <td>1</td>\n",
              "    </tr>\n",
              "    <tr>\n",
              "      <th>1990-03-02 00:00:00+01:00</th>\n",
              "      <td>1831.0</td>\n",
              "      <td>1860.0</td>\n",
              "      <td>1831.0</td>\n",
              "      <td>1860.0</td>\n",
              "      <td>0</td>\n",
              "      <td>1874.0</td>\n",
              "      <td>1</td>\n",
              "    </tr>\n",
              "    <tr>\n",
              "      <th>1990-03-05 00:00:00+01:00</th>\n",
              "      <td>1866.0</td>\n",
              "      <td>1874.0</td>\n",
              "      <td>1862.0</td>\n",
              "      <td>1874.0</td>\n",
              "      <td>0</td>\n",
              "      <td>1872.0</td>\n",
              "      <td>0</td>\n",
              "    </tr>\n",
              "    <tr>\n",
              "      <th>1990-03-06 00:00:00+01:00</th>\n",
              "      <td>1869.0</td>\n",
              "      <td>1875.0</td>\n",
              "      <td>1866.0</td>\n",
              "      <td>1872.0</td>\n",
              "      <td>0</td>\n",
              "      <td>1880.0</td>\n",
              "      <td>1</td>\n",
              "    </tr>\n",
              "    <tr>\n",
              "      <th>1990-03-07 00:00:00+01:00</th>\n",
              "      <td>1874.0</td>\n",
              "      <td>1881.0</td>\n",
              "      <td>1874.0</td>\n",
              "      <td>1880.0</td>\n",
              "      <td>0</td>\n",
              "      <td>1917.0</td>\n",
              "      <td>1</td>\n",
              "    </tr>\n",
              "  </tbody>\n",
              "</table>\n",
              "</div>\n",
              "      <button class=\"colab-df-convert\" onclick=\"convertToInteractive('df-7939758b-ea20-4cfc-8b6b-134f79c4c8d5')\"\n",
              "              title=\"Convert this dataframe to an interactive table.\"\n",
              "              style=\"display:none;\">\n",
              "        \n",
              "  <svg xmlns=\"http://www.w3.org/2000/svg\" height=\"24px\"viewBox=\"0 0 24 24\"\n",
              "       width=\"24px\">\n",
              "    <path d=\"M0 0h24v24H0V0z\" fill=\"none\"/>\n",
              "    <path d=\"M18.56 5.44l.94 2.06.94-2.06 2.06-.94-2.06-.94-.94-2.06-.94 2.06-2.06.94zm-11 1L8.5 8.5l.94-2.06 2.06-.94-2.06-.94L8.5 2.5l-.94 2.06-2.06.94zm10 10l.94 2.06.94-2.06 2.06-.94-2.06-.94-.94-2.06-.94 2.06-2.06.94z\"/><path d=\"M17.41 7.96l-1.37-1.37c-.4-.4-.92-.59-1.43-.59-.52 0-1.04.2-1.43.59L10.3 9.45l-7.72 7.72c-.78.78-.78 2.05 0 2.83L4 21.41c.39.39.9.59 1.41.59.51 0 1.02-.2 1.41-.59l7.78-7.78 2.81-2.81c.8-.78.8-2.07 0-2.86zM5.41 20L4 18.59l7.72-7.72 1.47 1.35L5.41 20z\"/>\n",
              "  </svg>\n",
              "      </button>\n",
              "      \n",
              "  <style>\n",
              "    .colab-df-container {\n",
              "      display:flex;\n",
              "      flex-wrap:wrap;\n",
              "      gap: 12px;\n",
              "    }\n",
              "\n",
              "    .colab-df-convert {\n",
              "      background-color: #E8F0FE;\n",
              "      border: none;\n",
              "      border-radius: 50%;\n",
              "      cursor: pointer;\n",
              "      display: none;\n",
              "      fill: #1967D2;\n",
              "      height: 32px;\n",
              "      padding: 0 0 0 0;\n",
              "      width: 32px;\n",
              "    }\n",
              "\n",
              "    .colab-df-convert:hover {\n",
              "      background-color: #E2EBFA;\n",
              "      box-shadow: 0px 1px 2px rgba(60, 64, 67, 0.3), 0px 1px 3px 1px rgba(60, 64, 67, 0.15);\n",
              "      fill: #174EA6;\n",
              "    }\n",
              "\n",
              "    [theme=dark] .colab-df-convert {\n",
              "      background-color: #3B4455;\n",
              "      fill: #D2E3FC;\n",
              "    }\n",
              "\n",
              "    [theme=dark] .colab-df-convert:hover {\n",
              "      background-color: #434B5C;\n",
              "      box-shadow: 0px 1px 3px 1px rgba(0, 0, 0, 0.15);\n",
              "      filter: drop-shadow(0px 1px 2px rgba(0, 0, 0, 0.3));\n",
              "      fill: #FFFFFF;\n",
              "    }\n",
              "  </style>\n",
              "\n",
              "      <script>\n",
              "        const buttonEl =\n",
              "          document.querySelector('#df-7939758b-ea20-4cfc-8b6b-134f79c4c8d5 button.colab-df-convert');\n",
              "        buttonEl.style.display =\n",
              "          google.colab.kernel.accessAllowed ? 'block' : 'none';\n",
              "\n",
              "        async function convertToInteractive(key) {\n",
              "          const element = document.querySelector('#df-7939758b-ea20-4cfc-8b6b-134f79c4c8d5');\n",
              "          const dataTable =\n",
              "            await google.colab.kernel.invokeFunction('convertToInteractive',\n",
              "                                                     [key], {});\n",
              "          if (!dataTable) return;\n",
              "\n",
              "          const docLinkHtml = 'Like what you see? Visit the ' +\n",
              "            '<a target=\"_blank\" href=https://colab.research.google.com/notebooks/data_table.ipynb>data table notebook</a>'\n",
              "            + ' to learn more about interactive tables.';\n",
              "          element.innerHTML = '';\n",
              "          dataTable['output_type'] = 'display_data';\n",
              "          await google.colab.output.renderOutput(dataTable, element);\n",
              "          const docLink = document.createElement('div');\n",
              "          docLink.innerHTML = docLinkHtml;\n",
              "          element.appendChild(docLink);\n",
              "        }\n",
              "      </script>\n",
              "    </div>\n",
              "  </div>\n",
              "  "
            ]
          },
          "metadata": {},
          "execution_count": 426
        }
      ]
    },
    {
      "cell_type": "markdown",
      "source": [
        "# PART 3: BUILDING, OPTIMISING & TESTING A SUPERVISED MODEL"
      ],
      "metadata": {
        "id": "597PVNo0Jo75"
      }
    },
    {
      "cell_type": "markdown",
      "source": [
        "## Why a Random Forest Regressor ?       \n",
        "### A random Forest Regressor is a good baseline model for our case: we want to predict the Future price given the closing price as well as other predictors. This model is great because it's easy to explain, and we can do some quick hyperparameter tuning by using GridSearch from sklearn. After, we will compare this baseline model with our LSTM :) ."
      ],
      "metadata": {
        "id": "24TkJutsKGLz"
      }
    },
    {
      "cell_type": "code",
      "source": [
        "from sklearn.ensemble import RandomForestRegressor\n",
        "from sklearn.model_selection import GridSearchCV\n",
        "from sklearn.metrics import mean_squared_error"
      ],
      "metadata": {
        "id": "QFsTvBYo3Ejk"
      },
      "execution_count": null,
      "outputs": []
    },
    {
      "cell_type": "markdown",
      "source": [
        "### We do a 80/20 split for our training and testing data."
      ],
      "metadata": {
        "id": "fcW02xqDHXyi"
      }
    },
    {
      "cell_type": "code",
      "source": [
        "train_len = int(0.8*len(cac40))\n",
        "test_len = int(len(cac40) - train_len)\n",
        "print(train_len, test_len)"
      ],
      "metadata": {
        "colab": {
          "base_uri": "https://localhost:8080/"
        },
        "id": "4_WUvBTW6xS9",
        "outputId": "42246ff4-acbc-4780-a0c5-85fe2486700a"
      },
      "execution_count": null,
      "outputs": [
        {
          "output_type": "stream",
          "name": "stdout",
          "text": [
            "6654 1664\n"
          ]
        }
      ]
    },
    {
      "cell_type": "code",
      "source": [
        "train_data = cac40.iloc[:-test_len]\n",
        "test_data = cac40.iloc[-test_len:]"
      ],
      "metadata": {
        "id": "STUZasN28lXZ"
      },
      "execution_count": null,
      "outputs": []
    },
    {
      "cell_type": "code",
      "source": [
        "train_data.head()"
      ],
      "metadata": {
        "colab": {
          "base_uri": "https://localhost:8080/"
        },
        "id": "eLoV2AEg8z83",
        "outputId": "ce1430e8-07c9-48e9-9d20-242c44e48371"
      },
      "execution_count": null,
      "outputs": [
        {
          "output_type": "execute_result",
          "data": {
            "text/plain": [
              "                             Open    High     Low   Close  Volume  Future  \\\n",
              "Date                                                                        \n",
              "1990-03-01 00:00:00+01:00  1836.0  1838.0  1827.0  1832.0       0  1860.0   \n",
              "1990-03-02 00:00:00+01:00  1831.0  1860.0  1831.0  1860.0       0  1874.0   \n",
              "1990-03-05 00:00:00+01:00  1866.0  1874.0  1862.0  1874.0       0  1872.0   \n",
              "1990-03-06 00:00:00+01:00  1869.0  1875.0  1866.0  1872.0       0  1880.0   \n",
              "1990-03-07 00:00:00+01:00  1874.0  1881.0  1874.0  1880.0       0  1917.0   \n",
              "\n",
              "                           Target  \n",
              "Date                               \n",
              "1990-03-01 00:00:00+01:00       1  \n",
              "1990-03-02 00:00:00+01:00       1  \n",
              "1990-03-05 00:00:00+01:00       0  \n",
              "1990-03-06 00:00:00+01:00       1  \n",
              "1990-03-07 00:00:00+01:00       1  "
            ],
            "text/html": [
              "\n",
              "  <div id=\"df-8adfae7b-034f-428f-a046-c252eb131fc3\">\n",
              "    <div class=\"colab-df-container\">\n",
              "      <div>\n",
              "<style scoped>\n",
              "    .dataframe tbody tr th:only-of-type {\n",
              "        vertical-align: middle;\n",
              "    }\n",
              "\n",
              "    .dataframe tbody tr th {\n",
              "        vertical-align: top;\n",
              "    }\n",
              "\n",
              "    .dataframe thead th {\n",
              "        text-align: right;\n",
              "    }\n",
              "</style>\n",
              "<table border=\"1\" class=\"dataframe\">\n",
              "  <thead>\n",
              "    <tr style=\"text-align: right;\">\n",
              "      <th></th>\n",
              "      <th>Open</th>\n",
              "      <th>High</th>\n",
              "      <th>Low</th>\n",
              "      <th>Close</th>\n",
              "      <th>Volume</th>\n",
              "      <th>Future</th>\n",
              "      <th>Target</th>\n",
              "    </tr>\n",
              "    <tr>\n",
              "      <th>Date</th>\n",
              "      <th></th>\n",
              "      <th></th>\n",
              "      <th></th>\n",
              "      <th></th>\n",
              "      <th></th>\n",
              "      <th></th>\n",
              "      <th></th>\n",
              "    </tr>\n",
              "  </thead>\n",
              "  <tbody>\n",
              "    <tr>\n",
              "      <th>1990-03-01 00:00:00+01:00</th>\n",
              "      <td>1836.0</td>\n",
              "      <td>1838.0</td>\n",
              "      <td>1827.0</td>\n",
              "      <td>1832.0</td>\n",
              "      <td>0</td>\n",
              "      <td>1860.0</td>\n",
              "      <td>1</td>\n",
              "    </tr>\n",
              "    <tr>\n",
              "      <th>1990-03-02 00:00:00+01:00</th>\n",
              "      <td>1831.0</td>\n",
              "      <td>1860.0</td>\n",
              "      <td>1831.0</td>\n",
              "      <td>1860.0</td>\n",
              "      <td>0</td>\n",
              "      <td>1874.0</td>\n",
              "      <td>1</td>\n",
              "    </tr>\n",
              "    <tr>\n",
              "      <th>1990-03-05 00:00:00+01:00</th>\n",
              "      <td>1866.0</td>\n",
              "      <td>1874.0</td>\n",
              "      <td>1862.0</td>\n",
              "      <td>1874.0</td>\n",
              "      <td>0</td>\n",
              "      <td>1872.0</td>\n",
              "      <td>0</td>\n",
              "    </tr>\n",
              "    <tr>\n",
              "      <th>1990-03-06 00:00:00+01:00</th>\n",
              "      <td>1869.0</td>\n",
              "      <td>1875.0</td>\n",
              "      <td>1866.0</td>\n",
              "      <td>1872.0</td>\n",
              "      <td>0</td>\n",
              "      <td>1880.0</td>\n",
              "      <td>1</td>\n",
              "    </tr>\n",
              "    <tr>\n",
              "      <th>1990-03-07 00:00:00+01:00</th>\n",
              "      <td>1874.0</td>\n",
              "      <td>1881.0</td>\n",
              "      <td>1874.0</td>\n",
              "      <td>1880.0</td>\n",
              "      <td>0</td>\n",
              "      <td>1917.0</td>\n",
              "      <td>1</td>\n",
              "    </tr>\n",
              "  </tbody>\n",
              "</table>\n",
              "</div>\n",
              "      <button class=\"colab-df-convert\" onclick=\"convertToInteractive('df-8adfae7b-034f-428f-a046-c252eb131fc3')\"\n",
              "              title=\"Convert this dataframe to an interactive table.\"\n",
              "              style=\"display:none;\">\n",
              "        \n",
              "  <svg xmlns=\"http://www.w3.org/2000/svg\" height=\"24px\"viewBox=\"0 0 24 24\"\n",
              "       width=\"24px\">\n",
              "    <path d=\"M0 0h24v24H0V0z\" fill=\"none\"/>\n",
              "    <path d=\"M18.56 5.44l.94 2.06.94-2.06 2.06-.94-2.06-.94-.94-2.06-.94 2.06-2.06.94zm-11 1L8.5 8.5l.94-2.06 2.06-.94-2.06-.94L8.5 2.5l-.94 2.06-2.06.94zm10 10l.94 2.06.94-2.06 2.06-.94-2.06-.94-.94-2.06-.94 2.06-2.06.94z\"/><path d=\"M17.41 7.96l-1.37-1.37c-.4-.4-.92-.59-1.43-.59-.52 0-1.04.2-1.43.59L10.3 9.45l-7.72 7.72c-.78.78-.78 2.05 0 2.83L4 21.41c.39.39.9.59 1.41.59.51 0 1.02-.2 1.41-.59l7.78-7.78 2.81-2.81c.8-.78.8-2.07 0-2.86zM5.41 20L4 18.59l7.72-7.72 1.47 1.35L5.41 20z\"/>\n",
              "  </svg>\n",
              "      </button>\n",
              "      \n",
              "  <style>\n",
              "    .colab-df-container {\n",
              "      display:flex;\n",
              "      flex-wrap:wrap;\n",
              "      gap: 12px;\n",
              "    }\n",
              "\n",
              "    .colab-df-convert {\n",
              "      background-color: #E8F0FE;\n",
              "      border: none;\n",
              "      border-radius: 50%;\n",
              "      cursor: pointer;\n",
              "      display: none;\n",
              "      fill: #1967D2;\n",
              "      height: 32px;\n",
              "      padding: 0 0 0 0;\n",
              "      width: 32px;\n",
              "    }\n",
              "\n",
              "    .colab-df-convert:hover {\n",
              "      background-color: #E2EBFA;\n",
              "      box-shadow: 0px 1px 2px rgba(60, 64, 67, 0.3), 0px 1px 3px 1px rgba(60, 64, 67, 0.15);\n",
              "      fill: #174EA6;\n",
              "    }\n",
              "\n",
              "    [theme=dark] .colab-df-convert {\n",
              "      background-color: #3B4455;\n",
              "      fill: #D2E3FC;\n",
              "    }\n",
              "\n",
              "    [theme=dark] .colab-df-convert:hover {\n",
              "      background-color: #434B5C;\n",
              "      box-shadow: 0px 1px 3px 1px rgba(0, 0, 0, 0.15);\n",
              "      filter: drop-shadow(0px 1px 2px rgba(0, 0, 0, 0.3));\n",
              "      fill: #FFFFFF;\n",
              "    }\n",
              "  </style>\n",
              "\n",
              "      <script>\n",
              "        const buttonEl =\n",
              "          document.querySelector('#df-8adfae7b-034f-428f-a046-c252eb131fc3 button.colab-df-convert');\n",
              "        buttonEl.style.display =\n",
              "          google.colab.kernel.accessAllowed ? 'block' : 'none';\n",
              "\n",
              "        async function convertToInteractive(key) {\n",
              "          const element = document.querySelector('#df-8adfae7b-034f-428f-a046-c252eb131fc3');\n",
              "          const dataTable =\n",
              "            await google.colab.kernel.invokeFunction('convertToInteractive',\n",
              "                                                     [key], {});\n",
              "          if (!dataTable) return;\n",
              "\n",
              "          const docLinkHtml = 'Like what you see? Visit the ' +\n",
              "            '<a target=\"_blank\" href=https://colab.research.google.com/notebooks/data_table.ipynb>data table notebook</a>'\n",
              "            + ' to learn more about interactive tables.';\n",
              "          element.innerHTML = '';\n",
              "          dataTable['output_type'] = 'display_data';\n",
              "          await google.colab.output.renderOutput(dataTable, element);\n",
              "          const docLink = document.createElement('div');\n",
              "          docLink.innerHTML = docLinkHtml;\n",
              "          element.appendChild(docLink);\n",
              "        }\n",
              "      </script>\n",
              "    </div>\n",
              "  </div>\n",
              "  "
            ]
          },
          "metadata": {},
          "execution_count": 430
        }
      ]
    },
    {
      "cell_type": "code",
      "source": [
        "test_data.head()"
      ],
      "metadata": {
        "colab": {
          "base_uri": "https://localhost:8080/"
        },
        "id": "m-KQm-IC87Q8",
        "outputId": "6e23d6d9-ff0f-4a3b-c438-779930102cd8"
      },
      "execution_count": null,
      "outputs": [
        {
          "output_type": "execute_result",
          "data": {
            "text/plain": [
              "                                  Open         High          Low        Close  \\\n",
              "Date                                                                            \n",
              "2016-06-13 00:00:00+02:00  4253.979980  4275.970215  4227.020020  4227.020020   \n",
              "2016-06-14 00:00:00+02:00  4175.209961  4199.540039  4127.870117  4130.330078   \n",
              "2016-06-15 00:00:00+02:00  4172.729980  4204.009766  4162.020020  4171.580078   \n",
              "2016-06-16 00:00:00+02:00  4116.500000  4162.370117  4109.819824  4153.009766   \n",
              "2016-06-17 00:00:00+02:00  4179.439941  4218.529785  4170.169922  4193.830078   \n",
              "\n",
              "                              Volume       Future  Target  \n",
              "Date                                                       \n",
              "2016-06-13 00:00:00+02:00  115884600  4130.330078       0  \n",
              "2016-06-14 00:00:00+02:00  136119700  4171.580078       1  \n",
              "2016-06-15 00:00:00+02:00  122586800  4153.009766       0  \n",
              "2016-06-16 00:00:00+02:00  117520700  4193.830078       1  \n",
              "2016-06-17 00:00:00+02:00  196645100  4340.759766       1  "
            ],
            "text/html": [
              "\n",
              "  <div id=\"df-2838a8ed-321d-4589-bfca-4940a5e7cc02\">\n",
              "    <div class=\"colab-df-container\">\n",
              "      <div>\n",
              "<style scoped>\n",
              "    .dataframe tbody tr th:only-of-type {\n",
              "        vertical-align: middle;\n",
              "    }\n",
              "\n",
              "    .dataframe tbody tr th {\n",
              "        vertical-align: top;\n",
              "    }\n",
              "\n",
              "    .dataframe thead th {\n",
              "        text-align: right;\n",
              "    }\n",
              "</style>\n",
              "<table border=\"1\" class=\"dataframe\">\n",
              "  <thead>\n",
              "    <tr style=\"text-align: right;\">\n",
              "      <th></th>\n",
              "      <th>Open</th>\n",
              "      <th>High</th>\n",
              "      <th>Low</th>\n",
              "      <th>Close</th>\n",
              "      <th>Volume</th>\n",
              "      <th>Future</th>\n",
              "      <th>Target</th>\n",
              "    </tr>\n",
              "    <tr>\n",
              "      <th>Date</th>\n",
              "      <th></th>\n",
              "      <th></th>\n",
              "      <th></th>\n",
              "      <th></th>\n",
              "      <th></th>\n",
              "      <th></th>\n",
              "      <th></th>\n",
              "    </tr>\n",
              "  </thead>\n",
              "  <tbody>\n",
              "    <tr>\n",
              "      <th>2016-06-13 00:00:00+02:00</th>\n",
              "      <td>4253.979980</td>\n",
              "      <td>4275.970215</td>\n",
              "      <td>4227.020020</td>\n",
              "      <td>4227.020020</td>\n",
              "      <td>115884600</td>\n",
              "      <td>4130.330078</td>\n",
              "      <td>0</td>\n",
              "    </tr>\n",
              "    <tr>\n",
              "      <th>2016-06-14 00:00:00+02:00</th>\n",
              "      <td>4175.209961</td>\n",
              "      <td>4199.540039</td>\n",
              "      <td>4127.870117</td>\n",
              "      <td>4130.330078</td>\n",
              "      <td>136119700</td>\n",
              "      <td>4171.580078</td>\n",
              "      <td>1</td>\n",
              "    </tr>\n",
              "    <tr>\n",
              "      <th>2016-06-15 00:00:00+02:00</th>\n",
              "      <td>4172.729980</td>\n",
              "      <td>4204.009766</td>\n",
              "      <td>4162.020020</td>\n",
              "      <td>4171.580078</td>\n",
              "      <td>122586800</td>\n",
              "      <td>4153.009766</td>\n",
              "      <td>0</td>\n",
              "    </tr>\n",
              "    <tr>\n",
              "      <th>2016-06-16 00:00:00+02:00</th>\n",
              "      <td>4116.500000</td>\n",
              "      <td>4162.370117</td>\n",
              "      <td>4109.819824</td>\n",
              "      <td>4153.009766</td>\n",
              "      <td>117520700</td>\n",
              "      <td>4193.830078</td>\n",
              "      <td>1</td>\n",
              "    </tr>\n",
              "    <tr>\n",
              "      <th>2016-06-17 00:00:00+02:00</th>\n",
              "      <td>4179.439941</td>\n",
              "      <td>4218.529785</td>\n",
              "      <td>4170.169922</td>\n",
              "      <td>4193.830078</td>\n",
              "      <td>196645100</td>\n",
              "      <td>4340.759766</td>\n",
              "      <td>1</td>\n",
              "    </tr>\n",
              "  </tbody>\n",
              "</table>\n",
              "</div>\n",
              "      <button class=\"colab-df-convert\" onclick=\"convertToInteractive('df-2838a8ed-321d-4589-bfca-4940a5e7cc02')\"\n",
              "              title=\"Convert this dataframe to an interactive table.\"\n",
              "              style=\"display:none;\">\n",
              "        \n",
              "  <svg xmlns=\"http://www.w3.org/2000/svg\" height=\"24px\"viewBox=\"0 0 24 24\"\n",
              "       width=\"24px\">\n",
              "    <path d=\"M0 0h24v24H0V0z\" fill=\"none\"/>\n",
              "    <path d=\"M18.56 5.44l.94 2.06.94-2.06 2.06-.94-2.06-.94-.94-2.06-.94 2.06-2.06.94zm-11 1L8.5 8.5l.94-2.06 2.06-.94-2.06-.94L8.5 2.5l-.94 2.06-2.06.94zm10 10l.94 2.06.94-2.06 2.06-.94-2.06-.94-.94-2.06-.94 2.06-2.06.94z\"/><path d=\"M17.41 7.96l-1.37-1.37c-.4-.4-.92-.59-1.43-.59-.52 0-1.04.2-1.43.59L10.3 9.45l-7.72 7.72c-.78.78-.78 2.05 0 2.83L4 21.41c.39.39.9.59 1.41.59.51 0 1.02-.2 1.41-.59l7.78-7.78 2.81-2.81c.8-.78.8-2.07 0-2.86zM5.41 20L4 18.59l7.72-7.72 1.47 1.35L5.41 20z\"/>\n",
              "  </svg>\n",
              "      </button>\n",
              "      \n",
              "  <style>\n",
              "    .colab-df-container {\n",
              "      display:flex;\n",
              "      flex-wrap:wrap;\n",
              "      gap: 12px;\n",
              "    }\n",
              "\n",
              "    .colab-df-convert {\n",
              "      background-color: #E8F0FE;\n",
              "      border: none;\n",
              "      border-radius: 50%;\n",
              "      cursor: pointer;\n",
              "      display: none;\n",
              "      fill: #1967D2;\n",
              "      height: 32px;\n",
              "      padding: 0 0 0 0;\n",
              "      width: 32px;\n",
              "    }\n",
              "\n",
              "    .colab-df-convert:hover {\n",
              "      background-color: #E2EBFA;\n",
              "      box-shadow: 0px 1px 2px rgba(60, 64, 67, 0.3), 0px 1px 3px 1px rgba(60, 64, 67, 0.15);\n",
              "      fill: #174EA6;\n",
              "    }\n",
              "\n",
              "    [theme=dark] .colab-df-convert {\n",
              "      background-color: #3B4455;\n",
              "      fill: #D2E3FC;\n",
              "    }\n",
              "\n",
              "    [theme=dark] .colab-df-convert:hover {\n",
              "      background-color: #434B5C;\n",
              "      box-shadow: 0px 1px 3px 1px rgba(0, 0, 0, 0.15);\n",
              "      filter: drop-shadow(0px 1px 2px rgba(0, 0, 0, 0.3));\n",
              "      fill: #FFFFFF;\n",
              "    }\n",
              "  </style>\n",
              "\n",
              "      <script>\n",
              "        const buttonEl =\n",
              "          document.querySelector('#df-2838a8ed-321d-4589-bfca-4940a5e7cc02 button.colab-df-convert');\n",
              "        buttonEl.style.display =\n",
              "          google.colab.kernel.accessAllowed ? 'block' : 'none';\n",
              "\n",
              "        async function convertToInteractive(key) {\n",
              "          const element = document.querySelector('#df-2838a8ed-321d-4589-bfca-4940a5e7cc02');\n",
              "          const dataTable =\n",
              "            await google.colab.kernel.invokeFunction('convertToInteractive',\n",
              "                                                     [key], {});\n",
              "          if (!dataTable) return;\n",
              "\n",
              "          const docLinkHtml = 'Like what you see? Visit the ' +\n",
              "            '<a target=\"_blank\" href=https://colab.research.google.com/notebooks/data_table.ipynb>data table notebook</a>'\n",
              "            + ' to learn more about interactive tables.';\n",
              "          element.innerHTML = '';\n",
              "          dataTable['output_type'] = 'display_data';\n",
              "          await google.colab.output.renderOutput(dataTable, element);\n",
              "          const docLink = document.createElement('div');\n",
              "          docLink.innerHTML = docLinkHtml;\n",
              "          element.appendChild(docLink);\n",
              "        }\n",
              "      </script>\n",
              "    </div>\n",
              "  </div>\n",
              "  "
            ]
          },
          "metadata": {},
          "execution_count": 431
        }
      ]
    },
    {
      "cell_type": "code",
      "source": [
        "train_data.shape"
      ],
      "metadata": {
        "colab": {
          "base_uri": "https://localhost:8080/"
        },
        "id": "407IKt4y9Xuh",
        "outputId": "5d40f0c8-da9e-47fa-b7c6-c86a6d3fc649"
      },
      "execution_count": null,
      "outputs": [
        {
          "output_type": "execute_result",
          "data": {
            "text/plain": [
              "(6654, 7)"
            ]
          },
          "metadata": {},
          "execution_count": 432
        }
      ]
    },
    {
      "cell_type": "markdown",
      "source": [
        "### We drop the last row because we wouldn't have a Future value, which will raise an error during the prediction"
      ],
      "metadata": {
        "id": "vKEzh_JoK0qy"
      }
    },
    {
      "cell_type": "code",
      "source": [
        "test_data.drop(test_data.tail(1).index, inplace=True)"
      ],
      "metadata": {
        "colab": {
          "base_uri": "https://localhost:8080/"
        },
        "id": "0-tBys509Y2r",
        "outputId": "0adcf824-b989-4bd6-acff-d693b0375edd"
      },
      "execution_count": null,
      "outputs": [
        {
          "output_type": "stream",
          "name": "stderr",
          "text": [
            "/usr/local/lib/python3.8/dist-packages/pandas/core/frame.py:4906: SettingWithCopyWarning: \n",
            "A value is trying to be set on a copy of a slice from a DataFrame\n",
            "\n",
            "See the caveats in the documentation: https://pandas.pydata.org/pandas-docs/stable/user_guide/indexing.html#returning-a-view-versus-a-copy\n",
            "  return super().drop(\n"
          ]
        }
      ]
    },
    {
      "cell_type": "markdown",
      "source": [
        "### We keep all columns except the Target and Future value. The reason is quite simple: we don't use Future as a predictor because that would mean we are cheating: we would fit the model with data that we shouldn't and couldn't have because the event hasn't happened yet."
      ],
      "metadata": {
        "id": "SvhB4_ndHgYT"
      }
    },
    {
      "cell_type": "code",
      "source": [
        "model = RandomForestRegressor()"
      ],
      "metadata": {
        "id": "nRpnqhi76jXd"
      },
      "execution_count": null,
      "outputs": []
    },
    {
      "cell_type": "code",
      "source": [
        "predictors = ['Open',\t'High',\t'Low','Close']"
      ],
      "metadata": {
        "id": "3GQaYOMT9f3Y"
      },
      "execution_count": null,
      "outputs": []
    },
    {
      "cell_type": "markdown",
      "source": [
        "### We create a simple Random Forest Regressor, on which we will do some hyperparameter tuning to have the best model possible"
      ],
      "metadata": {
        "id": "JlzhUxJ2H_u7"
      }
    },
    {
      "cell_type": "code",
      "source": [
        "model.fit(train_data[predictors], train_data['Future'])"
      ],
      "metadata": {
        "colab": {
          "base_uri": "https://localhost:8080/"
        },
        "id": "rM4N6FgK9vl6",
        "outputId": "d21d4243-d5bc-40d3-f1de-605d27f0f26c"
      },
      "execution_count": null,
      "outputs": [
        {
          "output_type": "execute_result",
          "data": {
            "text/plain": [
              "RandomForestRegressor()"
            ]
          },
          "metadata": {},
          "execution_count": 436
        }
      ]
    },
    {
      "cell_type": "code",
      "source": [
        "predictions = pd.Series(model.predict(test_data[predictors]), \n",
        "                        index=test_data.index)"
      ],
      "metadata": {
        "id": "VKzULAf1-OVE"
      },
      "execution_count": null,
      "outputs": []
    },
    {
      "cell_type": "code",
      "source": [
        "print(mean_squared_error(test_data['Future'], predictions))\n",
        "print(mean_squared_error(test_data['Future'], predictions, squared=False))\n"
      ],
      "metadata": {
        "colab": {
          "base_uri": "https://localhost:8080/"
        },
        "id": "SJ0GAQPIMC26",
        "outputId": "61b47184-a669-439a-bbfb-f213c4f39fd9"
      },
      "execution_count": null,
      "outputs": [
        {
          "output_type": "stream",
          "name": "stdout",
          "text": [
            "7925.860029718041\n",
            "89.02729935091843\n"
          ]
        }
      ]
    },
    {
      "cell_type": "code",
      "source": [
        "parameters = {\n",
        "    \"n_estimators\":[100,250,500],\n",
        "    \"max_depth\":range(2,6,2),\n",
        "    \"min_samples_leaf\":range(2,6,2),\n",
        "    \"min_samples_split\":range(2,6,2)\n",
        "}"
      ],
      "metadata": {
        "id": "I9ZdgSnDK-2R"
      },
      "execution_count": null,
      "outputs": []
    },
    {
      "cell_type": "code",
      "source": [
        "#grid_search = GridSearchCV(estimator=model, \n",
        " #                          param_grid=parameters,\n",
        "  #                         cv=4)"
      ],
      "metadata": {
        "id": "3yGy5NTtMf6q"
      },
      "execution_count": null,
      "outputs": []
    },
    {
      "cell_type": "code",
      "source": [
        "#grid_search.fit(train_data[predictors], train_data['Target'])"
      ],
      "metadata": {
        "id": "P2520X65NYNZ"
      },
      "execution_count": null,
      "outputs": []
    },
    {
      "cell_type": "code",
      "source": [
        "#grid_search.best_params_"
      ],
      "metadata": {
        "id": "7boCv0SCPuKg"
      },
      "execution_count": null,
      "outputs": []
    },
    {
      "cell_type": "code",
      "source": [
        "model = RandomForestRegressor(max_depth=2,\n",
        "                              min_samples_leaf=4,\n",
        "                              min_samples_split=4,\n",
        "                              n_estimators=100)\n",
        "\n",
        "model.fit(train_data[predictors], train_data['Future'])\n",
        "\n",
        "predictions = pd.Series(model.predict(test_data[predictors]), \n",
        "                        index=test_data.index)\n",
        "\n",
        "print(mean_squared_error(test_data['Future'], predictions))\n",
        "print(mean_squared_error(test_data['Future'], predictions, squared=False))"
      ],
      "metadata": {
        "colab": {
          "base_uri": "https://localhost:8080/"
        },
        "id": "BwBBdoa_PLzx",
        "outputId": "cd090af9-73e7-4842-80aa-29164616ef74"
      },
      "execution_count": null,
      "outputs": [
        {
          "output_type": "stream",
          "name": "stdout",
          "text": [
            "386016.8674933395\n",
            "621.3025571276361\n"
          ]
        }
      ]
    },
    {
      "cell_type": "markdown",
      "source": [
        "## PART 4: BUILDING A LSTM "
      ],
      "metadata": {
        "id": "M5RgglElCohz"
      }
    },
    {
      "cell_type": "markdown",
      "source": [
        "### A LSTM is the obvious choice for our situation. Since we are doing a Time Series prediction, we need to make predictions for the near future; while also taking into accounts the big trends of the past. An LSTM works by using a series of \"gates\", which help him either to forget or to keep data, unlike more \"traditional\" RNN which don't have these features.     \n",
        "### We are going to procede with the same steps as above, with some modifications. We are going to only keep the closing price, as this is the only data that the LSTM is going to need. We are also scaling the data with a MinMaxScaler (a StandardScaler could have also been used)"
      ],
      "metadata": {
        "id": "Ai8dnc8VNGZi"
      }
    },
    {
      "cell_type": "code",
      "source": [
        "lstm_data = cac40[['Close']]"
      ],
      "metadata": {
        "id": "caPb38O2DGVh"
      },
      "execution_count": null,
      "outputs": []
    },
    {
      "cell_type": "code",
      "source": [
        "lstm_data.index = lstm_data.index.date"
      ],
      "metadata": {
        "id": "BqsGChZlTAZ4"
      },
      "execution_count": null,
      "outputs": []
    },
    {
      "cell_type": "code",
      "source": [
        "lstm_data = lstm_data.values"
      ],
      "metadata": {
        "id": "_VAokXmdSmjV"
      },
      "execution_count": null,
      "outputs": []
    },
    {
      "cell_type": "code",
      "source": [
        "train_len = int(np.ceil(len(lstm_data)*.8))\n",
        "val_len = len(lstm_data) - train_len"
      ],
      "metadata": {
        "id": "arcHwnfZUx48"
      },
      "execution_count": null,
      "outputs": []
    },
    {
      "cell_type": "code",
      "source": [
        "from sklearn.preprocessing import MinMaxScaler"
      ],
      "metadata": {
        "id": "0_rnBPBvtq88"
      },
      "execution_count": null,
      "outputs": []
    },
    {
      "cell_type": "code",
      "source": [
        "scaler = MinMaxScaler(feature_range=(0,1))\n",
        "lstm_scaled = scaler.fit_transform(lstm_data)\n",
        "lstm_scaled"
      ],
      "metadata": {
        "colab": {
          "base_uri": "https://localhost:8080/"
        },
        "id": "CYV1fnS-t_dO",
        "outputId": "c5e098a3-baf6-486f-cf3a-7cd4459da802"
      },
      "execution_count": null,
      "outputs": [
        {
          "output_type": "execute_result",
          "data": {
            "text/plain": [
              "array([[0.06587626],\n",
              "       [0.07059374],\n",
              "       [0.07295249],\n",
              "       ...,\n",
              "       [0.8931625 ],\n",
              "       [0.88553196],\n",
              "       [0.88204272]])"
            ]
          },
          "metadata": {},
          "execution_count": 449
        }
      ]
    },
    {
      "cell_type": "code",
      "source": [
        "lstm_train = lstm_scaled[0:train_len, :]\n",
        "lstm_val = lstm_scaled[train_len-10:, :]"
      ],
      "metadata": {
        "id": "puIbzFOKuJBG"
      },
      "execution_count": null,
      "outputs": []
    },
    {
      "cell_type": "code",
      "source": [
        "x_train, y_train = [], []\n",
        "x_test, y_test = [], []"
      ],
      "metadata": {
        "id": "xmcFecDauwd0"
      },
      "execution_count": null,
      "outputs": []
    },
    {
      "cell_type": "code",
      "source": [
        "for i in range(10, train_len):\n",
        "  x_train.append(lstm_train[i-10:i,0])\n",
        "  y_train.append(lstm_train[i,0])"
      ],
      "metadata": {
        "id": "oaM2fWXTuxVU"
      },
      "execution_count": null,
      "outputs": []
    },
    {
      "cell_type": "code",
      "source": [
        "x_train, y_train = np.array(x_train), np.array(y_train)\n",
        "x_train = np.reshape(x_train, (x_train.shape[0], x_train.shape[1],1)) # Converts to a Tensor like object"
      ],
      "metadata": {
        "id": "dKNyivf6zw9B"
      },
      "execution_count": null,
      "outputs": []
    },
    {
      "cell_type": "code",
      "source": [
        "y_test = lstm_data[train_len+10:, :]\n",
        "for i in range(10, val_len):\n",
        "  x_test.append(lstm_val[i-10:i, 0])\n",
        "\n",
        "x_test, y_test = np.array(x_test), np.array(y_test)\n",
        "x_test = np.reshape(x_test, (x_test.shape[0], x_test.shape[1],1))"
      ],
      "metadata": {
        "id": "sf9YTAuEz_P6"
      },
      "execution_count": null,
      "outputs": []
    },
    {
      "cell_type": "code",
      "source": [
        "from keras.models import Sequential\n",
        "from keras.layers import Dense, LSTM, Dropout, Activation"
      ],
      "metadata": {
        "id": "UDmWbgpPyzji"
      },
      "execution_count": null,
      "outputs": []
    },
    {
      "cell_type": "markdown",
      "source": [
        "## We are going to experiment with two different LSTM architectures.    \n",
        "### The first is rather simple: we are going to have two LSTM layers, followed by two dense layers which are going to give us the predicted closing price. Then, we transform the data back to its original scale.     \n",
        "### The second model is more complex: We have two LSTM layers, followed by a Dropout layer, then another two LSTM layers and then finally two Dense Layers. The goal here is to compare which is better in terms of prediction accuracy and training speed.      \n",
        "### Both these model use \"adam\" as optimizer and MSE as the loss function, as they are what yielded the best results for me."
      ],
      "metadata": {
        "id": "LEESUPpbR2rZ"
      }
    },
    {
      "cell_type": "code",
      "source": [
        "model_1 = Sequential()\n",
        "model_1.add(LSTM(128, return_sequences=True, input_shape= (x_train.shape[1], 1)))\n",
        "model_1.add(LSTM(64, return_sequences=False))\n",
        "model_1.add(Dense(1))\n",
        "model_1.compile(optimizer='adam', loss='mean_squared_error')\n",
        "history_model_1 = model_1.fit(x_train, y_train, batch_size=1, epochs=10)\n"
      ],
      "metadata": {
        "colab": {
          "base_uri": "https://localhost:8080/"
        },
        "id": "W6ruLu71zIqS",
        "outputId": "55609efe-e673-440a-c178-34e66ce7163b"
      },
      "execution_count": null,
      "outputs": [
        {
          "output_type": "stream",
          "name": "stdout",
          "text": [
            "Epoch 1/10\n",
            "6645/6645 [==============================] - 65s 9ms/step - loss: 6.0605e-04\n",
            "Epoch 2/10\n",
            "6645/6645 [==============================] - 62s 9ms/step - loss: 2.2194e-04\n",
            "Epoch 3/10\n",
            "6645/6645 [==============================] - 60s 9ms/step - loss: 1.8250e-04\n",
            "Epoch 4/10\n",
            "6645/6645 [==============================] - 61s 9ms/step - loss: 1.6718e-04\n",
            "Epoch 5/10\n",
            "6645/6645 [==============================] - 61s 9ms/step - loss: 1.5610e-04\n",
            "Epoch 6/10\n",
            "6645/6645 [==============================] - 62s 9ms/step - loss: 1.4479e-04\n",
            "Epoch 7/10\n",
            "6645/6645 [==============================] - 60s 9ms/step - loss: 1.3533e-04\n",
            "Epoch 8/10\n",
            "6645/6645 [==============================] - 61s 9ms/step - loss: 1.3200e-04\n",
            "Epoch 9/10\n",
            "6645/6645 [==============================] - 61s 9ms/step - loss: 1.3201e-04\n",
            "Epoch 10/10\n",
            "6645/6645 [==============================] - 62s 9ms/step - loss: 1.2717e-04\n"
          ]
        }
      ]
    },
    {
      "cell_type": "code",
      "source": [
        "predictions_model_1 = scaler.inverse_transform(model_1.predict(x_test))\n",
        "print(predictions_model_1)\n",
        "mse_model_1 = mean_squared_error(predictions_model_1, y_test)\n",
        "rmse_model_1 = np.sqrt(np.mean(((predictions_model_1-y_test)**2)))\n",
        "print(f'The MSE is {mse_model_1} and RMSE is {rmse_model_1} for the first model')"
      ],
      "metadata": {
        "id": "AKWSfwFG0z-c",
        "colab": {
          "base_uri": "https://localhost:8080/"
        },
        "outputId": "ae4c7e3a-aed9-4af1-9543-231c455db454"
      },
      "execution_count": null,
      "outputs": [
        {
          "output_type": "stream",
          "name": "stdout",
          "text": [
            "52/52 [==============================] - 1s 10ms/step\n",
            "[[4267.664 ]\n",
            " [4169.038 ]\n",
            " [4215.952 ]\n",
            " ...\n",
            " [6633.2627]\n",
            " [6698.8696]\n",
            " [6688.143 ]]\n",
            "The MSE is 51242.724210393986 and RMSE is 226.36855835206882 for the first model\n"
          ]
        }
      ]
    },
    {
      "cell_type": "code",
      "source": [
        "model_2 = Sequential()\n",
        "model_2.add(LSTM(256, return_sequences=True, input_shape= (x_train.shape[1], 1)))\n",
        "model_2.add(LSTM(128, return_sequences=True))\n",
        "model_2.add(Dropout(0.2))\n",
        "model_2.add(LSTM(64, return_sequences=True))\n",
        "model_2.add(LSTM(32, return_sequences=False))\n",
        "model_2.add(Dense(25))\n",
        "model_2.add(Dense(1))\n",
        "model_2.compile(optimizer='adam', loss='mean_squared_error')\n",
        "history_model_2 = model_2.fit(x_train, y_train, batch_size=1, epochs=1)\n"
      ],
      "metadata": {
        "id": "fuQF8Jb209LD",
        "colab": {
          "base_uri": "https://localhost:8080/"
        },
        "outputId": "5d075234-c960-42ac-86e3-fa0d1ef7e65e"
      },
      "execution_count": null,
      "outputs": [
        {
          "output_type": "stream",
          "name": "stdout",
          "text": [
            "6645/6645 [==============================] - 172s 25ms/step - loss: 0.0013\n"
          ]
        }
      ]
    },
    {
      "cell_type": "code",
      "source": [
        "predictions_model_2 = scaler.inverse_transform(model_2.predict(x_test))\n",
        "print(predictions_model_2)\n",
        "mse_model_2 = mean_squared_error(predictions_model_2, y_test)\n",
        "rmse_model_2 = np.sqrt(np.mean(((predictions_model_2-y_test)**2)))\n",
        "print(f'The MSE is {mse_model_2} and RMSE is {rmse_model_2} for the second model')"
      ],
      "metadata": {
        "id": "zNDkK-ja5zqQ",
        "colab": {
          "base_uri": "https://localhost:8080/"
        },
        "outputId": "29155b56-f251-4a9d-b0aa-4c016b338db1"
      },
      "execution_count": null,
      "outputs": [
        {
          "output_type": "stream",
          "name": "stdout",
          "text": [
            "52/52 [==============================] - 3s 25ms/step\n",
            "[[4258.134 ]\n",
            " [4207.0684]\n",
            " [4167.015 ]\n",
            " ...\n",
            " [6260.2188]\n",
            " [6273.8345]\n",
            " [6287.6523]]\n",
            "The MSE is 104839.5565713758 and RMSE is 323.7893706893044 for the second model\n"
          ]
        }
      ]
    },
    {
      "cell_type": "code",
      "source": [
        "plt.figure(figsize=(20,10))\n",
        "plt.plot(history_model_1.history['loss'], label='Loss for model 1')\n",
        "plt.plot(history_model_2.history['loss'], label='Loss for model 2')\n",
        "plt.title('The losses of our models')\n",
        "plt.legend()\n",
        "plt.show()"
      ],
      "metadata": {
        "id": "95cSy9FVVo9g",
        "colab": {
          "base_uri": "https://localhost:8080/"
        },
        "outputId": "73937aca-1511-4cf4-97c1-3c5ca6fae866"
      },
      "execution_count": null,
      "outputs": [
        {
          "output_type": "display_data",
          "data": {
            "text/plain": [
              "<Figure size 1440x720 with 1 Axes>"
            ],
            "image/png": "[encoded data removed]"
          },
          "metadata": {
            "needs_background": "light"
          }
        }
      ]
    },
    {
      "cell_type": "code",
      "source": [],
      "metadata": {
        "id": "7795yALvolUZ"
      },
      "execution_count": null,
      "outputs": []
    }
  ]
}